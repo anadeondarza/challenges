{
 "cells": [
  {
   "cell_type": "code",
   "execution_count": 1,
   "id": "8a23256b",
   "metadata": {},
   "outputs": [],
   "source": [
    "import urllib.request as ur\n",
    "import requests\n",
    "import bs4\n",
    "import pandas as pd\n",
    "import re"
   ]
  },
  {
   "cell_type": "code",
   "execution_count": 2,
   "id": "ba415ab5",
   "metadata": {},
   "outputs": [],
   "source": [
    "url = 'https://www.codewars.com/users/AnaDeOndarza'"
   ]
  },
  {
   "cell_type": "code",
   "execution_count": 3,
   "id": "962d259e",
   "metadata": {},
   "outputs": [
    {
     "data": {
      "text/plain": [
       "<Response [200]>"
      ]
     },
     "execution_count": 3,
     "metadata": {},
     "output_type": "execute_result"
    }
   ],
   "source": [
    "r = requests.get(url)\n",
    "r"
   ]
  },
  {
   "cell_type": "code",
   "execution_count": 4,
   "id": "61011a80",
   "metadata": {},
   "outputs": [],
   "source": [
    "r = r.content"
   ]
  },
  {
   "cell_type": "code",
   "execution_count": 5,
   "id": "825344e1",
   "metadata": {},
   "outputs": [],
   "source": [
    "parsed_html = bs4.BeautifulSoup(r, \"html.parser\") "
   ]
  },
  {
   "cell_type": "code",
   "execution_count": 6,
   "id": "63d0830e",
   "metadata": {},
   "outputs": [],
   "source": [
    "fecha = parsed_html.find_all(\"div\", {\"class\": \"stat\"})"
   ]
  },
  {
   "cell_type": "code",
   "execution_count": 7,
   "id": "35b39fb2",
   "metadata": {},
   "outputs": [
    {
     "data": {
      "text/plain": [
       "[<div class=\"stat\"><b>Name:</b>Unknown</div>,\n",
       " <div class=\"stat\"><b>Clan:</b>Unknown</div>,\n",
       " <div class=\"stat\"><b>Member Since:</b>May 2022</div>,\n",
       " <div class=\"stat\"><b>Last Seen:</b>Jul 2022</div>,\n",
       " <div class=\"stat\"><b>Profiles:</b><ul class=\"is-inline\"></ul></div>,\n",
       " <div class=\"stat\"><b>Following:</b>0</div>,\n",
       " <div class=\"stat\"><b>Followers:</b>0</div>,\n",
       " <div class=\"stat\"><b>Allies:</b>0</div>,\n",
       " <div class=\"stat\"><b>Rank:</b>8 kyu</div>,\n",
       " <div class=\"stat\"><b>Honor:</b>2</div>,\n",
       " <div class=\"stat\"><b>Total Completed Kata:</b>1</div>,\n",
       " <div class=\"stat\"><b>Total Languages Trained:</b>1</div>,\n",
       " <div class=\"stat\"><b>Highest Trained:</b>Python (8 kyu)</div>,\n",
       " <div class=\"stat\"><b>Most Recent:</b>SQL</div>,\n",
       " <div class=\"stat\"><b>Comments:</b>0 (0 replies)</div>,\n",
       " <div class=\"stat\"><b>Collections:</b>0</div>,\n",
       " <div class=\"stat\"><b>Kumite:</b>0</div>,\n",
       " <div class=\"stat\"><b>Translations:</b>0 (0 approved)</div>]"
      ]
     },
     "execution_count": 7,
     "metadata": {},
     "output_type": "execute_result"
    }
   ],
   "source": [
    "fecha"
   ]
  },
  {
   "cell_type": "code",
   "execution_count": 10,
   "id": "c5a835af",
   "metadata": {},
   "outputs": [],
   "source": [
    "data = [fecha[e].text.split(':')[1] for e in range(len(fecha)) if fecha[e].text.split(':')[0] == 'Member Since'][0]"
   ]
  },
  {
   "cell_type": "code",
   "execution_count": 11,
   "id": "8bbc0dd6",
   "metadata": {},
   "outputs": [
    {
     "data": {
      "text/plain": [
       "'May 2022'"
      ]
     },
     "execution_count": 11,
     "metadata": {},
     "output_type": "execute_result"
    }
   ],
   "source": [
    "data"
   ]
  },
  {
   "cell_type": "markdown",
   "id": "08833937",
   "metadata": {},
   "source": [
    "### result\n"
   ]
  },
  {
   "cell_type": "code",
   "execution_count": null,
   "id": "3794d730",
   "metadata": {},
   "outputs": [],
   "source": [
    "def get_member_since(username):\n",
    "    import urllib.request as ur\n",
    "    import requests\n",
    "    import bs4\n",
    "    import pandas as pd\n",
    "    import re\n",
    "    r = requests.get(url)\n",
    "    r = r.content\n",
    "    parsed_html = bs4.BeautifulSoup(r, \"html.parser\") \n",
    "    a = parsed_html.find_all(\"div\", {\"class\": \"stat\"})\n",
    "    data = [fecha[e].text.split(':')[1] for e in range(len(fecha)) if fecha[e].text.split(':')[0] == 'Member Since'][0]\n",
    "    return date"
   ]
  }
 ],
 "metadata": {
  "kernelspec": {
   "display_name": "Python [conda env:m1_ih]",
   "language": "python",
   "name": "conda-env-m1_ih-py"
  },
  "language_info": {
   "codemirror_mode": {
    "name": "ipython",
    "version": 3
   },
   "file_extension": ".py",
   "mimetype": "text/x-python",
   "name": "python",
   "nbconvert_exporter": "python",
   "pygments_lexer": "ipython3",
   "version": "3.9.12"
  }
 },
 "nbformat": 4,
 "nbformat_minor": 5
}
