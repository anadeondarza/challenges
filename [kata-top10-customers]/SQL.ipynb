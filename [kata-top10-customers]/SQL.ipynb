{
 "cells": [
  {
   "cell_type": "code",
   "execution_count": null,
   "id": "89d9a9be",
   "metadata": {},
   "outputs": [],
   "source": [
    "SELECT c.customer_id, \n",
    "email, \n",
    "COUNT(pa.payment_id) as payments_count,\n",
    "SUM(pa.amount)::FLOAT as total_amount\n",
    "\n",
    "FROM customer as c\n",
    "INNER JOIN payment as pa\n",
    "ON c.customer_id = pa.customer_id\n",
    "\n",
    "group by c.customer_id\n",
    "order by total_amount DESC\n",
    "LIMIT 10"
   ]
  }
 ],
 "metadata": {
  "kernelspec": {
   "display_name": "Python 3 (ipykernel)",
   "language": "python",
   "name": "python3"
  },
  "language_info": {
   "codemirror_mode": {
    "name": "ipython",
    "version": 3
   },
   "file_extension": ".py",
   "mimetype": "text/x-python",
   "name": "python",
   "nbconvert_exporter": "python",
   "pygments_lexer": "ipython3",
   "version": "3.9.12"
  }
 },
 "nbformat": 4,
 "nbformat_minor": 5
}
