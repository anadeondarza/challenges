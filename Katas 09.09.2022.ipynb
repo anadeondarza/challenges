{
 "cells": [
  {
   "cell_type": "markdown",
   "id": "e1e7a741",
   "metadata": {},
   "source": [
    "Kata 1"
   ]
  },
  {
   "cell_type": "code",
   "execution_count": null,
   "id": "9c49f562",
   "metadata": {},
   "outputs": [],
   "source": [
    "\n",
    "SELECT\n",
    "DATE(created_at) as \"day\",\n",
    "description as \"description\", \n",
    "COUNT(*) as \"count\"\n",
    "FROM events\n",
    "WHERE name = 'trained'\n",
    "\n",
    "group by \"day\", description\n",
    "ORDER BY \"day\""
   ]
  },
  {
   "cell_type": "markdown",
   "id": "8153c4a8",
   "metadata": {},
   "source": [
    "Kata 2 "
   ]
  },
  {
   "cell_type": "code",
   "execution_count": null,
   "id": "0319d001",
   "metadata": {},
   "outputs": [],
   "source": [
    "SELECT \n",
    "capital \n",
    "FROM countries\n",
    "\n",
    "WHERE (continent LIKE 'Af%')  and (country LIKE 'E%')\n",
    "\n",
    "Order By capital \n",
    "\n",
    "LIMIT 3 "
   ]
  },
  {
   "cell_type": "markdown",
   "id": "578f273f",
   "metadata": {},
   "source": [
    "Kata 3 "
   ]
  },
  {
   "cell_type": "code",
   "execution_count": null,
   "id": "bfb57d63",
   "metadata": {},
   "outputs": [],
   "source": [
    "SELECT \n",
    "DATE(s.transaction_date) AS \"day\",\n",
    "d.name AS Department,\n",
    "COUNT(s.id) as sale_count\n",
    "FROM department d\n",
    "INNER JOIN sale s ON d.id = s.department_id\n",
    "group by \"day\", Department\n",
    "order by \"day\""
   ]
  },
  {
   "cell_type": "code",
   "execution_count": null,
   "id": "5dd4a846",
   "metadata": {},
   "outputs": [],
   "source": []
  }
 ],
 "metadata": {
  "kernelspec": {
   "display_name": "Python [conda env:m1_ih]",
   "language": "python",
   "name": "conda-env-m1_ih-py"
  },
  "language_info": {
   "codemirror_mode": {
    "name": "ipython",
    "version": 3
   },
   "file_extension": ".py",
   "mimetype": "text/x-python",
   "name": "python",
   "nbconvert_exporter": "python",
   "pygments_lexer": "ipython3",
   "version": "3.9.12"
  }
 },
 "nbformat": 4,
 "nbformat_minor": 5
}
