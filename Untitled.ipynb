{
 "cells": [
  {
   "cell_type": "code",
   "execution_count": null,
   "id": "a0f5f75e",
   "metadata": {},
   "outputs": [],
   "source": [
    "SELECT \n",
    "capital \n",
    "FROM countries\n",
    "where (continent = 'Africa') or (continent = 'Afrika') and (capital LIKE 'E%')\n",
    "\n",
    "Order By capital \n",
    "\n",
    "LIMIT 3 "
   ]
  }
 ],
 "metadata": {
  "kernelspec": {
   "display_name": "Python [conda env:jp_env] *",
   "language": "python",
   "name": "conda-env-jp_env-py"
  },
  "language_info": {
   "codemirror_mode": {
    "name": "ipython",
    "version": 3
   },
   "file_extension": ".py",
   "mimetype": "text/x-python",
   "name": "python",
   "nbconvert_exporter": "python",
   "pygments_lexer": "ipython3",
   "version": "3.9.12"
  }
 },
 "nbformat": 4,
 "nbformat_minor": 5
}
