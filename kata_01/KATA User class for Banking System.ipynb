{
 "cells": [
  {
   "cell_type": "code",
   "execution_count": 1,
   "id": "abc012d8",
   "metadata": {},
   "outputs": [],
   "source": [
    "class User(object):\n",
    "    def __init__(self, name, balance, checking_account):\n",
    "        self.name = name\n",
    "        self.balance = balance\n",
    "        self.checking_account = checking_account\n",
    "    def withdraw(self, money):\n",
    "        if self.balance - money < 0:\n",
    "            raise ValueError(\"there isn't enough money to withdraw\")\n",
    "        else:\n",
    "            self.balance -= money\n",
    "            return f'{self.name} has {self.balance}'\n",
    "    def check (self, other_user, money):\n",
    "        if other_user.checking_account == False:\n",
    "            raise ValueError(\"other user doesn't active\")\n",
    "        else:\n",
    "            if other_user.balance >= money:\n",
    "                self.balance += money\n",
    "                other_user.balance -= money\n",
    "                return f'{self.name} has {self.balance} and {other_user.name} has {other_user.balance}'\n",
    "            else:\n",
    "                raise ValueError(\"not enough money\")\n",
    "    def add_cash (self, money):\n",
    "        self.balance += money\n",
    "        return f'{self.name} has {self.balance}'"
   ]
  },
  {
   "cell_type": "code",
   "execution_count": null,
   "id": "73f906df",
   "metadata": {},
   "outputs": [],
   "source": []
  }
 ],
 "metadata": {
  "kernelspec": {
   "display_name": "Python [conda env:m1_ih]",
   "language": "python",
   "name": "conda-env-m1_ih-py"
  },
  "language_info": {
   "codemirror_mode": {
    "name": "ipython",
    "version": 3
   },
   "file_extension": ".py",
   "mimetype": "text/x-python",
   "name": "python",
   "nbconvert_exporter": "python",
   "pygments_lexer": "ipython3",
   "version": "3.9.12"
  }
 },
 "nbformat": 4,
 "nbformat_minor": 5
}
